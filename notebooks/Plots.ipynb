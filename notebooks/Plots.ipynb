{
 "cells": [
  {
   "cell_type": "code",
   "execution_count": 10,
   "id": "3c36b886",
   "metadata": {},
   "outputs": [],
   "source": [
    "import pandas as pd\n",
    "from pyBKT.models import Model"
   ]
  },
  {
   "cell_type": "code",
   "execution_count": 5,
   "id": "b46670f5",
   "metadata": {},
   "outputs": [],
   "source": [
    "# This cell makes sure you can import from \"src\"\n",
    "import sys \n",
    "import os\n",
    "module_path = os.path.abspath(os.path.join('../src'))\n",
    "if module_path not in sys.path:\n",
    "    sys.path.append(module_path)"
   ]
  },
  {
   "cell_type": "code",
   "execution_count": 6,
   "id": "f2d19311",
   "metadata": {},
   "outputs": [],
   "source": [
    "from metrics import *"
   ]
  },
  {
   "cell_type": "markdown",
   "id": "ae1e8243",
   "metadata": {},
   "source": [
    "## Load data"
   ]
  },
  {
   "cell_type": "code",
   "execution_count": 8,
   "id": "0dac7266",
   "metadata": {},
   "outputs": [],
   "source": [
    "df = pd.read_csv('data/cognitive_tutor.csv')"
   ]
  },
  {
   "cell_type": "code",
   "execution_count": 12,
   "id": "14f417a1",
   "metadata": {},
   "outputs": [],
   "source": [
    "# TODO: implement train/test split, for now\n",
    "train = df \n",
    "test = df "
   ]
  },
  {
   "cell_type": "markdown",
   "id": "562698c0",
   "metadata": {},
   "source": [
    "## Fit model\n",
    "\n",
    "See https://github.com/CAHLR/pyBKT and their related paper"
   ]
  },
  {
   "cell_type": "code",
   "execution_count": null,
   "id": "0f1d56bd",
   "metadata": {},
   "outputs": [],
   "source": [
    "model = Model(seed=42, num_fits=1)\n",
    "model.fit(data=train)\n",
    "test_metric = model.evaluate(data=test, metric=metric)"
   ]
  },
  {
   "cell_type": "markdown",
   "id": "4f2b64a4",
   "metadata": {},
   "source": [
    "## Plots"
   ]
  },
  {
   "cell_type": "code",
   "execution_count": null,
   "id": "a37aa450",
   "metadata": {},
   "outputs": [],
   "source": [
    "# TODO: pick one case study of https://github.com/CAHLR/pyBKT-examples, apply it on the dataset, \n",
    "#  and add 2-3 plots that illustrate the findings."
   ]
  }
 ],
 "metadata": {
  "kernelspec": {
   "display_name": "Python (knowledge-tracing)",
   "language": "python",
   "name": "myenv"
  },
  "language_info": {
   "codemirror_mode": {
    "name": "ipython",
    "version": 3
   },
   "file_extension": ".py",
   "mimetype": "text/x-python",
   "name": "python",
   "nbconvert_exporter": "python",
   "pygments_lexer": "ipython3",
   "version": "3.8.10"
  }
 },
 "nbformat": 4,
 "nbformat_minor": 5
}
